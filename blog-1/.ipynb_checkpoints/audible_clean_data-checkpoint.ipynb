{
 "cells": [
  {
   "cell_type": "code",
   "execution_count": 1,
   "id": "45e531de-5ef4-4c24-9ca8-5bf2d179fb67",
   "metadata": {},
   "outputs": [],
   "source": [
    "import pandas as pd\n",
    "\n",
    "import numpy as np\n",
    "\n",
    "import matplotlib.pyplot as plt\n",
    "import seaborn as sns"
   ]
  },
  {
   "cell_type": "code",
   "execution_count": 2,
   "id": "d384dc71-38f4-4946-8422-a5c051b99c86",
   "metadata": {},
   "outputs": [],
   "source": [
    "pd.set_option(\"display.max_columns\", None)\n",
    "# pd.set_option(\"display.max_rows\", None)"
   ]
  },
  {
   "cell_type": "code",
   "execution_count": 3,
   "id": "9f60d777-9c13-466c-9dd1-2853380551cb",
   "metadata": {},
   "outputs": [],
   "source": [
    "author = pd.read_csv(\"./data/audible_uncleaned.csv\")"
   ]
  },
  {
   "cell_type": "code",
   "execution_count": 4,
   "id": "1c975dc7-6163-4865-959c-13e4898fbbdd",
   "metadata": {},
   "outputs": [
    {
     "data": {
      "text/html": [
       "<div>\n",
       "<style scoped>\n",
       "    .dataframe tbody tr th:only-of-type {\n",
       "        vertical-align: middle;\n",
       "    }\n",
       "\n",
       "    .dataframe tbody tr th {\n",
       "        vertical-align: top;\n",
       "    }\n",
       "\n",
       "    .dataframe thead th {\n",
       "        text-align: right;\n",
       "    }\n",
       "</style>\n",
       "<table border=\"1\" class=\"dataframe\">\n",
       "  <thead>\n",
       "    <tr style=\"text-align: right;\">\n",
       "      <th></th>\n",
       "      <th>name</th>\n",
       "      <th>author</th>\n",
       "      <th>narrator</th>\n",
       "      <th>time</th>\n",
       "      <th>releasedate</th>\n",
       "      <th>language</th>\n",
       "      <th>stars</th>\n",
       "      <th>price</th>\n",
       "    </tr>\n",
       "  </thead>\n",
       "  <tbody>\n",
       "    <tr>\n",
       "      <th>0</th>\n",
       "      <td>Geronimo Stilton #11 &amp; #12</td>\n",
       "      <td>Writtenby:GeronimoStilton</td>\n",
       "      <td>Narratedby:BillLobely</td>\n",
       "      <td>2 hrs and 20 mins</td>\n",
       "      <td>04-08-08</td>\n",
       "      <td>English</td>\n",
       "      <td>5 out of 5 stars34 ratings</td>\n",
       "      <td>468.00</td>\n",
       "    </tr>\n",
       "    <tr>\n",
       "      <th>1</th>\n",
       "      <td>The Burning Maze</td>\n",
       "      <td>Writtenby:RickRiordan</td>\n",
       "      <td>Narratedby:RobbieDaymond</td>\n",
       "      <td>13 hrs and 8 mins</td>\n",
       "      <td>01-05-18</td>\n",
       "      <td>English</td>\n",
       "      <td>4.5 out of 5 stars41 ratings</td>\n",
       "      <td>820.00</td>\n",
       "    </tr>\n",
       "    <tr>\n",
       "      <th>2</th>\n",
       "      <td>The Deep End</td>\n",
       "      <td>Writtenby:JeffKinney</td>\n",
       "      <td>Narratedby:DanRussell</td>\n",
       "      <td>2 hrs and 3 mins</td>\n",
       "      <td>06-11-20</td>\n",
       "      <td>English</td>\n",
       "      <td>4.5 out of 5 stars38 ratings</td>\n",
       "      <td>410.00</td>\n",
       "    </tr>\n",
       "    <tr>\n",
       "      <th>3</th>\n",
       "      <td>Daughter of the Deep</td>\n",
       "      <td>Writtenby:RickRiordan</td>\n",
       "      <td>Narratedby:SoneelaNankani</td>\n",
       "      <td>11 hrs and 16 mins</td>\n",
       "      <td>05-10-21</td>\n",
       "      <td>English</td>\n",
       "      <td>4.5 out of 5 stars12 ratings</td>\n",
       "      <td>615.00</td>\n",
       "    </tr>\n",
       "    <tr>\n",
       "      <th>4</th>\n",
       "      <td>The Lightning Thief: Percy Jackson, Book 1</td>\n",
       "      <td>Writtenby:RickRiordan</td>\n",
       "      <td>Narratedby:JesseBernstein</td>\n",
       "      <td>10 hrs</td>\n",
       "      <td>13-01-10</td>\n",
       "      <td>English</td>\n",
       "      <td>4.5 out of 5 stars181 ratings</td>\n",
       "      <td>820.00</td>\n",
       "    </tr>\n",
       "  </tbody>\n",
       "</table>\n",
       "</div>"
      ],
      "text/plain": [
       "                                         name                     author  \\\n",
       "0                  Geronimo Stilton #11 & #12  Writtenby:GeronimoStilton   \n",
       "1                            The Burning Maze      Writtenby:RickRiordan   \n",
       "2                                The Deep End       Writtenby:JeffKinney   \n",
       "3                        Daughter of the Deep      Writtenby:RickRiordan   \n",
       "4  The Lightning Thief: Percy Jackson, Book 1      Writtenby:RickRiordan   \n",
       "\n",
       "                    narrator                time releasedate language  \\\n",
       "0      Narratedby:BillLobely   2 hrs and 20 mins    04-08-08  English   \n",
       "1   Narratedby:RobbieDaymond   13 hrs and 8 mins    01-05-18  English   \n",
       "2      Narratedby:DanRussell    2 hrs and 3 mins    06-11-20  English   \n",
       "3  Narratedby:SoneelaNankani  11 hrs and 16 mins    05-10-21  English   \n",
       "4  Narratedby:JesseBernstein              10 hrs    13-01-10  English   \n",
       "\n",
       "                           stars   price  \n",
       "0     5 out of 5 stars34 ratings  468.00  \n",
       "1   4.5 out of 5 stars41 ratings  820.00  \n",
       "2   4.5 out of 5 stars38 ratings  410.00  \n",
       "3   4.5 out of 5 stars12 ratings  615.00  \n",
       "4  4.5 out of 5 stars181 ratings  820.00  "
      ]
     },
     "execution_count": 4,
     "metadata": {},
     "output_type": "execute_result"
    }
   ],
   "source": [
    "author.head(5)"
   ]
  },
  {
   "cell_type": "markdown",
   "id": "5c33c112-5a5b-4d09-bc35-75c88379e6af",
   "metadata": {},
   "source": [
    "## Checking datatypes"
   ]
  },
  {
   "cell_type": "code",
   "execution_count": 5,
   "id": "a763aa2d-0ba4-44ff-84f8-d7fd9ce502b0",
   "metadata": {},
   "outputs": [
    {
     "name": "stdout",
     "output_type": "stream",
     "text": [
      "<class 'pandas.core.frame.DataFrame'>\n",
      "RangeIndex: 87489 entries, 0 to 87488\n",
      "Data columns (total 8 columns):\n",
      " #   Column       Non-Null Count  Dtype \n",
      "---  ------       --------------  ----- \n",
      " 0   name         87489 non-null  object\n",
      " 1   author       87489 non-null  object\n",
      " 2   narrator     87489 non-null  object\n",
      " 3   time         87489 non-null  object\n",
      " 4   releasedate  87489 non-null  object\n",
      " 5   language     87489 non-null  object\n",
      " 6   stars        87489 non-null  object\n",
      " 7   price        87489 non-null  object\n",
      "dtypes: object(8)\n",
      "memory usage: 5.3+ MB\n"
     ]
    }
   ],
   "source": [
    "author.info()"
   ]
  },
  {
   "cell_type": "markdown",
   "id": "f0a04c17-3cca-4128-a9b3-06ba9511099d",
   "metadata": {},
   "source": [
    "- time should be converted into min\n",
    "- release date should be converted into datetime\n",
    "- price to be integer"
   ]
  },
  {
   "cell_type": "code",
   "execution_count": null,
   "id": "33ea71d8-5782-40e4-bc93-e7560f362539",
   "metadata": {},
   "outputs": [],
   "source": []
  },
  {
   "cell_type": "markdown",
   "id": "e4f71e9a-fd80-4f31-9f45-a28c50beac83",
   "metadata": {},
   "source": [
    "## Analyzing each feature"
   ]
  },
  {
   "cell_type": "markdown",
   "id": "00da91c1-a636-4bf1-8075-948d026084d6",
   "metadata": {},
   "source": [
    "### name"
   ]
  },
  {
   "cell_type": "code",
   "execution_count": 6,
   "id": "a474d33a-86c0-4d30-b2ee-e4cce6fb22d0",
   "metadata": {},
   "outputs": [
    {
     "data": {
      "text/html": [
       "<div>\n",
       "<style scoped>\n",
       "    .dataframe tbody tr th:only-of-type {\n",
       "        vertical-align: middle;\n",
       "    }\n",
       "\n",
       "    .dataframe tbody tr th {\n",
       "        vertical-align: top;\n",
       "    }\n",
       "\n",
       "    .dataframe thead th {\n",
       "        text-align: right;\n",
       "    }\n",
       "</style>\n",
       "<table border=\"1\" class=\"dataframe\">\n",
       "  <thead>\n",
       "    <tr style=\"text-align: right;\">\n",
       "      <th></th>\n",
       "      <th>name</th>\n",
       "      <th>count</th>\n",
       "    </tr>\n",
       "  </thead>\n",
       "  <tbody>\n",
       "    <tr>\n",
       "      <th>0</th>\n",
       "      <td>The Art of War</td>\n",
       "      <td>20</td>\n",
       "    </tr>\n",
       "    <tr>\n",
       "      <th>1</th>\n",
       "      <td>Sterling Biographies</td>\n",
       "      <td>19</td>\n",
       "    </tr>\n",
       "    <tr>\n",
       "      <th>2</th>\n",
       "      <td>The Odyssey</td>\n",
       "      <td>16</td>\n",
       "    </tr>\n",
       "    <tr>\n",
       "      <th>3</th>\n",
       "      <td>Sterling Point Books</td>\n",
       "      <td>16</td>\n",
       "    </tr>\n",
       "    <tr>\n",
       "      <th>4</th>\n",
       "      <td>Hamlet</td>\n",
       "      <td>15</td>\n",
       "    </tr>\n",
       "    <tr>\n",
       "      <th>...</th>\n",
       "      <td>...</td>\n",
       "      <td>...</td>\n",
       "    </tr>\n",
       "    <tr>\n",
       "      <th>82762</th>\n",
       "      <td>Resumen de Inteligencia artificial de Pablo Ro...</td>\n",
       "      <td>1</td>\n",
       "    </tr>\n",
       "    <tr>\n",
       "      <th>82763</th>\n",
       "      <td>Resumen de La clave de la venta de Jeffrey Lip...</td>\n",
       "      <td>1</td>\n",
       "    </tr>\n",
       "    <tr>\n",
       "      <th>82764</th>\n",
       "      <td>SDGsが生み出す未来のビジネス（できるビジネス）</td>\n",
       "      <td>1</td>\n",
       "    </tr>\n",
       "    <tr>\n",
       "      <th>82765</th>\n",
       "      <td>弱者のポジショニング戦略</td>\n",
       "      <td>1</td>\n",
       "    </tr>\n",
       "    <tr>\n",
       "      <th>82766</th>\n",
       "      <td>Havana</td>\n",
       "      <td>1</td>\n",
       "    </tr>\n",
       "  </tbody>\n",
       "</table>\n",
       "<p>82767 rows × 2 columns</p>\n",
       "</div>"
      ],
      "text/plain": [
       "                                                    name  count\n",
       "0                                         The Art of War     20\n",
       "1                                   Sterling Biographies     19\n",
       "2                                            The Odyssey     16\n",
       "3                                   Sterling Point Books     16\n",
       "4                                                 Hamlet     15\n",
       "...                                                  ...    ...\n",
       "82762  Resumen de Inteligencia artificial de Pablo Ro...      1\n",
       "82763  Resumen de La clave de la venta de Jeffrey Lip...      1\n",
       "82764                          SDGsが生み出す未来のビジネス（できるビジネス）      1\n",
       "82765                                       弱者のポジショニング戦略      1\n",
       "82766                                             Havana      1\n",
       "\n",
       "[82767 rows x 2 columns]"
      ]
     },
     "execution_count": 6,
     "metadata": {},
     "output_type": "execute_result"
    }
   ],
   "source": [
    "author.name.value_counts().reset_index()"
   ]
  },
  {
   "cell_type": "code",
   "execution_count": null,
   "id": "e0c0096f-40e3-4d24-a068-b152ef8727a4",
   "metadata": {},
   "outputs": [],
   "source": []
  },
  {
   "cell_type": "markdown",
   "id": "ccb9e5bc-4b1b-4973-badb-4c151cf322cc",
   "metadata": {},
   "source": [
    "### author"
   ]
  },
  {
   "cell_type": "code",
   "execution_count": 7,
   "id": "5a33e53a-5434-4753-9c72-bf544ce7c7e4",
   "metadata": {},
   "outputs": [
    {
     "data": {
      "text/plain": [
       "0        GeronimoStilton\n",
       "1            RickRiordan\n",
       "2             JeffKinney\n",
       "3            RickRiordan\n",
       "4            RickRiordan\n",
       "              ...       \n",
       "87484       ChrisStewart\n",
       "87485      StephenO'Shea\n",
       "87486          MarkTwain\n",
       "87487     LaurenceSterne\n",
       "87488      MarkKurlansky\n",
       "Name: author, Length: 87489, dtype: object"
      ]
     },
     "execution_count": 7,
     "metadata": {},
     "output_type": "execute_result"
    }
   ],
   "source": [
    "author.author.str.split(\":\").str[1]"
   ]
  },
  {
   "cell_type": "code",
   "execution_count": 8,
   "id": "7c8797f3-3f16-44d1-a111-4e2e0c7cde4f",
   "metadata": {},
   "outputs": [],
   "source": [
    "### all stars outof 5 so remove other stuff -> and number rating create other feature"
   ]
  },
  {
   "cell_type": "code",
   "execution_count": 9,
   "id": "42caca6d-d458-4369-aa03-36f8f4dd8012",
   "metadata": {},
   "outputs": [
    {
     "data": {
      "text/plain": [
       "0          5\n",
       "1        4.5\n",
       "2        4.5\n",
       "3        4.5\n",
       "4        4.5\n",
       "        ... \n",
       "87484    Not\n",
       "87485    Not\n",
       "87486    Not\n",
       "87487    Not\n",
       "87488    Not\n",
       "Name: stars, Length: 87489, dtype: object"
      ]
     },
     "execution_count": 9,
     "metadata": {},
     "output_type": "execute_result"
    }
   ],
   "source": [
    "author['stars'].str.split(\"stars\").str[0].str.split(\" \", n=1).str[0]"
   ]
  },
  {
   "cell_type": "code",
   "execution_count": 10,
   "id": "c5a70cd6-4bdb-4158-8e35-207dd4eb8e75",
   "metadata": {},
   "outputs": [],
   "source": [
    "def clean_numeric(ser: pd.Series):\n",
    "    pass"
   ]
  },
  {
   "cell_type": "code",
   "execution_count": 11,
   "id": "34f88642-89c9-4c86-a2fc-d7011eab62ad",
   "metadata": {},
   "outputs": [],
   "source": [
    "### cleaning data"
   ]
  },
  {
   "cell_type": "code",
   "execution_count": 17,
   "id": "3bd81e2c-cf72-42e1-9f99-9c916acaae49",
   "metadata": {},
   "outputs": [],
   "source": [
    "def clean(df):\n",
    "    return (\n",
    "        df\n",
    "        .assign(\n",
    "            # author\n",
    "            author=lambda df_: (\n",
    "                df_.author\n",
    "                .str.split(\":\").str[1]\n",
    "            ),\n",
    "\n",
    "            # narrator\n",
    "            narrator=lambda df_: (\n",
    "                df_.narrator.str.split(\":\").str[1]\n",
    "            ),\n",
    "\n",
    "            # time\n",
    "            hour=lambda df_: (\n",
    "                df_.time\n",
    "                .replace(r\"[^0-9]\", \" \", regex=True).str.strip().str.split(\" \").str[0]\n",
    "                .astype('int')\n",
    "            ),\n",
    "            minute=lambda df_: (\n",
    "                df_.time\n",
    "                .replace(r\"[^0-9]\", \" \", regex=True).str.strip().str.split(\" \").str[-1]\n",
    "                .astype('int')sort_values(by='count')\n",
    "            ),\n",
    "            time_min=lambda df_: (\n",
    "                df_.hour*60 + df_.minute\n",
    "            ),\n",
    "\n",
    "            # releasedate\n",
    "            releasedate=lambda df_: pd.to_datetime(\n",
    "                df_.releasedate,\n",
    "                format='mixed'\n",
    "            ),\n",
    "            year=lambda df_: (\n",
    "                df_.releasedate.dt.year\n",
    "            ),\n",
    "            month=lambda df_: (\n",
    "                df_.releasedate.dt.month\n",
    "            ),\n",
    "            day=lambda df_: (\n",
    "                df_.releasedate.dt.day\n",
    "            ),\n",
    "\n",
    "            #stars\n",
    "            rating=lambda df_: (\n",
    "                df_.stars.str.split(\"stars\").str[0].str.split(\" \", n=1).str[0]\n",
    "                .replace(\"Not\", \"0\")\n",
    "                .astype(\"float\")\n",
    "            ),\n",
    "            n_rating=lambda df_: (\n",
    "                df_.stars.str.split(\"stars\").str[1].str.split(\" \", n=1).str[0]\n",
    "                .str.replace(\",\",\"\")\n",
    "                .replace(np.nan, \"0\")\n",
    "                .astype(\"int\")\n",
    "            ),\n",
    "\n",
    "             #price\n",
    "            price=lambda df_: (\n",
    "                df_.price\n",
    "                .str.replace(\"Free\", \"0\").str.replace(\",\",\"\")\n",
    "                .astype(\"float\")\n",
    "            ),\n",
    "\n",
    "            # language\n",
    "            language=lambda df_: (\n",
    "                df_.language.str.lower()\n",
    "            )\n",
    "        )\n",
    "        .drop(columns=['hour', 'minute', 'releasedate', 'time', 'stars'])\n",
    "    )"
   ]
  },
  {
   "cell_type": "code",
   "execution_count": 18,
   "id": "0d41d861-4f61-478a-91bc-fd4ee10950f9",
   "metadata": {},
   "outputs": [],
   "source": [
    "clean_author = clean(author)"
   ]
  },
  {
   "cell_type": "code",
   "execution_count": null,
   "id": "1a92bf51-c9f5-4c30-b31e-2f566c6c2152",
   "metadata": {},
   "outputs": [],
   "source": []
  },
  {
   "cell_type": "code",
   "execution_count": 19,
   "id": "2c8c2e79-dfdf-498b-a15a-17f33f027538",
   "metadata": {},
   "outputs": [
    {
     "data": {
      "text/html": [
       "<div>\n",
       "<style scoped>\n",
       "    .dataframe tbody tr th:only-of-type {\n",
       "        vertical-align: middle;\n",
       "    }\n",
       "\n",
       "    .dataframe tbody tr th {\n",
       "        vertical-align: top;\n",
       "    }\n",
       "\n",
       "    .dataframe thead th {\n",
       "        text-align: right;\n",
       "    }\n",
       "</style>\n",
       "<table border=\"1\" class=\"dataframe\">\n",
       "  <thead>\n",
       "    <tr style=\"text-align: right;\">\n",
       "      <th></th>\n",
       "      <th>name</th>\n",
       "      <th>author</th>\n",
       "      <th>narrator</th>\n",
       "      <th>language</th>\n",
       "      <th>price</th>\n",
       "      <th>time_min</th>\n",
       "      <th>year</th>\n",
       "      <th>month</th>\n",
       "      <th>day</th>\n",
       "      <th>rating</th>\n",
       "      <th>n_rating</th>\n",
       "    </tr>\n",
       "  </thead>\n",
       "  <tbody>\n",
       "    <tr>\n",
       "      <th>80124</th>\n",
       "      <td>The Chrysalids</td>\n",
       "      <td>Writtenby:JohnWyndham</td>\n",
       "      <td>Narratedby:NoahReid</td>\n",
       "      <td>english</td>\n",
       "      <td>759.0</td>\n",
       "      <td>418</td>\n",
       "      <td>2021</td>\n",
       "      <td>11</td>\n",
       "      <td>25</td>\n",
       "      <td>5.0</td>\n",
       "      <td>2</td>\n",
       "    </tr>\n",
       "    <tr>\n",
       "      <th>25562</th>\n",
       "      <td>The Express</td>\n",
       "      <td>Writtenby:RobertGallagher</td>\n",
       "      <td>Narratedby:PaulBoehmer</td>\n",
       "      <td>english</td>\n",
       "      <td>586.0</td>\n",
       "      <td>340</td>\n",
       "      <td>2008</td>\n",
       "      <td>9</td>\n",
       "      <td>15</td>\n",
       "      <td>0.0</td>\n",
       "      <td>0</td>\n",
       "    </tr>\n",
       "    <tr>\n",
       "      <th>73309</th>\n",
       "      <td>Levende død i Dallas</td>\n",
       "      <td>Writtenby:CharlaineHarris</td>\n",
       "      <td>Narratedby:MarieVestergårdJacobsen</td>\n",
       "      <td>danish</td>\n",
       "      <td>434.0</td>\n",
       "      <td>514</td>\n",
       "      <td>2016</td>\n",
       "      <td>12</td>\n",
       "      <td>20</td>\n",
       "      <td>0.0</td>\n",
       "      <td>0</td>\n",
       "    </tr>\n",
       "    <tr>\n",
       "      <th>36919</th>\n",
       "      <td>The Pleasure Gap</td>\n",
       "      <td>Writtenby:KatherineRowland</td>\n",
       "      <td>Narratedby:SuzieAlthens</td>\n",
       "      <td>english</td>\n",
       "      <td>500.0</td>\n",
       "      <td>669</td>\n",
       "      <td>2020</td>\n",
       "      <td>4</td>\n",
       "      <td>2</td>\n",
       "      <td>0.0</td>\n",
       "      <td>0</td>\n",
       "    </tr>\n",
       "    <tr>\n",
       "      <th>30665</th>\n",
       "      <td>Mastering Your Inner Critic and 7 Other High H...</td>\n",
       "      <td>Writtenby:SusanMackentyBrady</td>\n",
       "      <td>Narratedby:SusanMarlowe</td>\n",
       "      <td>english</td>\n",
       "      <td>586.0</td>\n",
       "      <td>415</td>\n",
       "      <td>2021</td>\n",
       "      <td>7</td>\n",
       "      <td>22</td>\n",
       "      <td>0.0</td>\n",
       "      <td>0</td>\n",
       "    </tr>\n",
       "  </tbody>\n",
       "</table>\n",
       "</div>"
      ],
      "text/plain": [
       "                                                    name  \\\n",
       "80124                                     The Chrysalids   \n",
       "25562                                        The Express   \n",
       "73309                               Levende død i Dallas   \n",
       "36919                                   The Pleasure Gap   \n",
       "30665  Mastering Your Inner Critic and 7 Other High H...   \n",
       "\n",
       "                             author                            narrator  \\\n",
       "80124         Writtenby:JohnWyndham                 Narratedby:NoahReid   \n",
       "25562     Writtenby:RobertGallagher              Narratedby:PaulBoehmer   \n",
       "73309     Writtenby:CharlaineHarris  Narratedby:MarieVestergårdJacobsen   \n",
       "36919    Writtenby:KatherineRowland             Narratedby:SuzieAlthens   \n",
       "30665  Writtenby:SusanMackentyBrady             Narratedby:SusanMarlowe   \n",
       "\n",
       "      language  price  time_min  year  month  day  rating  n_rating  \n",
       "80124  english  759.0       418  2021     11   25     5.0         2  \n",
       "25562  english  586.0       340  2008      9   15     0.0         0  \n",
       "73309   danish  434.0       514  2016     12   20     0.0         0  \n",
       "36919  english  500.0       669  2020      4    2     0.0         0  \n",
       "30665  english  586.0       415  2021      7   22     0.0         0  "
      ]
     },
     "execution_count": 19,
     "metadata": {},
     "output_type": "execute_result"
    }
   ],
   "source": [
    "clean_author.sample(5)"
   ]
  },
  {
   "cell_type": "code",
   "execution_count": null,
   "id": "fe10d7d0-c0e7-43a5-841d-ede214018e5d",
   "metadata": {},
   "outputs": [],
   "source": [
    "author.info()"
   ]
  },
  {
   "cell_type": "code",
   "execution_count": null,
   "id": "376d89d1-a768-4929-a1ad-2f46b1d60855",
   "metadata": {},
   "outputs": [],
   "source": [
    "clean_author['language'].unique()"
   ]
  },
  {
   "cell_type": "code",
   "execution_count": null,
   "id": "958148d0-4f4c-4c37-b39c-17f51071e6d9",
   "metadata": {},
   "outputs": [],
   "source": []
  },
  {
   "cell_type": "code",
   "execution_count": null,
   "id": "3fd4a3c9-fbfc-4025-a5b4-322a11c500cf",
   "metadata": {},
   "outputs": [],
   "source": [
    "clean_author.sample(5)"
   ]
  },
  {
   "cell_type": "code",
   "execution_count": null,
   "id": "5174c695-f4e7-4658-a97d-36ad984a5e89",
   "metadata": {},
   "outputs": [],
   "source": [
    "clean_author.info()"
   ]
  },
  {
   "cell_type": "code",
   "execution_count": null,
   "id": "ee01b596-70eb-4e7f-8ced-aa69a0d815c3",
   "metadata": {},
   "outputs": [],
   "source": [
    "clean_author.to_csv(\"clean_author.csv\", index=False)"
   ]
  },
  {
   "cell_type": "code",
   "execution_count": null,
   "id": "84f9bff2-1764-4122-8f96-b0d551733871",
   "metadata": {},
   "outputs": [],
   "source": []
  },
  {
   "cell_type": "code",
   "execution_count": null,
   "id": "1db2c81b-4d04-40d4-b317-e2bddc367ff9",
   "metadata": {},
   "outputs": [],
   "source": []
  },
  {
   "cell_type": "code",
   "execution_count": null,
   "id": "aecf67bc-a61a-4f59-bf2e-422651bacbe7",
   "metadata": {},
   "outputs": [],
   "source": []
  }
 ],
 "metadata": {
  "kernelspec": {
   "display_name": "Python 3 (ipykernel)",
   "language": "python",
   "name": "python3"
  },
  "language_info": {
   "codemirror_mode": {
    "name": "ipython",
    "version": 3
   },
   "file_extension": ".py",
   "mimetype": "text/x-python",
   "name": "python",
   "nbconvert_exporter": "python",
   "pygments_lexer": "ipython3",
   "version": "3.10.12"
  }
 },
 "nbformat": 4,
 "nbformat_minor": 5
}
